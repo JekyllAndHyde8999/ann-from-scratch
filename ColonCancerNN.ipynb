{
 "cells": [
  {
   "cell_type": "code",
   "execution_count": 1,
   "metadata": {},
   "outputs": [],
   "source": [
    "import random\n",
    "import copy\n",
    "import math\n",
    "from tqdm import tqdm\n",
    "import matplotlib.pyplot as plt\n",
    "%matplotlib inline"
   ]
  },
  {
   "cell_type": "code",
   "execution_count": 2,
   "metadata": {},
   "outputs": [
    {
     "data": {
      "text/plain": [
       "List([[2], [32]])"
      ]
     },
     "execution_count": 2,
     "metadata": {},
     "output_type": "execute_result"
    }
   ],
   "source": [
    "# a class deined for matrix operations\n",
    "class List:\n",
    "    \"\"\"\n",
    "    A custom class defined for matrix operations\n",
    "    \"\"\"\n",
    "\n",
    "    def __getShape(self):\n",
    "        return (len(self.list), len(self.list[0]))\n",
    "    \n",
    "    def __transpose(self):\n",
    "        t = [[self.list[j][i] for j in range(len(self.list))] for i in range(len(self.list[0]))]\n",
    "        return List(t)\n",
    "    \n",
    "    shape = property(fget=__getShape)\n",
    "    T = property(fget=__transpose)\n",
    "    \n",
    "    def __init__(self, l):\n",
    "        self.list = l if not isinstance(l, List) else List(l)\n",
    "        \n",
    "    def __str__(self):\n",
    "        return 'List({})'.format(self.list)\n",
    "    \n",
    "    def __repr__(self):\n",
    "        return 'List({})'.format(self.list)\n",
    "    \n",
    "    def __add__(self, other):\n",
    "        if isinstance(other, self.__class__):\n",
    "            assert self.shape == other.shape, 'Lists are not of same shape - Shape({}, {}) != Shape({}, {})'.format(self.shape[0], self.shape[1], other.shape[0], other.shape[1])\n",
    "            return List([[self.list[i][j] + other.list[i][j] for j in range(len(self.list[0]))] for i in range(len(self.list))])\n",
    "        else:\n",
    "            return List([[other + self.list[i][j] for j in range(len(self.list[0]))] for i in range(len(self.list))])\n",
    "    \n",
    "    def __radd__(self, other):\n",
    "        return self.__add__(other)\n",
    "    \n",
    "    def __sub__(self, other):\n",
    "        if isinstance(other, self.__class__):\n",
    "            assert self.shape == other.shape, 'Lists are not of same shape - Shape({}, {}) != Shape({}, {})'.format(self.shape[0], self.shape[1], other.shape[0], other.shape[1])\n",
    "            return List([[self.list[i][j] - other.list[i][j] for j in range(len(self.list[0]))] for i in range(len(self.list))])\n",
    "        else:\n",
    "            return List([[other - self.list[i][j] for j in range(len(self.list[0]))] for i in range(len(self.list))])\n",
    "    \n",
    "    def __rsub__(self, other):\n",
    "        return self.__sub__(other)\n",
    "    \n",
    "    def __mul__(self, other):\n",
    "        if isinstance(other, self.__class__):\n",
    "            assert self.shape[1] == other.shape[0], 'dim1({0}) != dim0({1})'.format(self.shape[1], other.shape[0]) # checking dimensions\n",
    "            product = [[0 for i in range(len(other.list[0]))] for j in range(len(self.list))]\n",
    "\n",
    "            for i in range(len(self.list)):\n",
    "                for j in range(len(other.list[0])):\n",
    "                    for k in range(len(other.list)):\n",
    "                        product[i][j] += (self.list[i][k] * other.list[k][j])\n",
    "\n",
    "            return List(product)\n",
    "        else:\n",
    "            new_list = [[other * self.list[i][j] for j in range(len(self.list[0]))] for i in range(len(self.list))]\n",
    "            return List(new_list)\n",
    "    \n",
    "    def __rmul__(self, other):\n",
    "        return self.__mul__(other)\n",
    "    \n",
    "    def __truediv__(self, other):\n",
    "        #assert not isinstance(other, self.__class__), 'Cannot divide two matrices'\n",
    "        if not isinstance(other, self.__class__):\n",
    "            new_list = [[self.list[i][j] / other for j in range(len(self.list[0]))] for i in range(len(self.list))]\n",
    "            return List(new_list)\n",
    "        else:\n",
    "            return List([[self.list[i][j] / other.list[i][j] for j in range(len(self.list[0]))] for i in range(len(self.list))])\n",
    "    \n",
    "    def __rtruediv__(self, other):\n",
    "        assert not isinstance(other, self.__class__), 'Cannot divide two matrices'\n",
    "        new_list = [[other / self.list[i][j] for j in range(len(self.list[0]))] for i in range(len(self.list))]\n",
    "        return List(new_list)\n",
    "    \n",
    "    def __abs__(self):\n",
    "        assert self.shape[1] == 1, 'dim1({}) != 1'.format(self.shape[1])\n",
    "        horiz = self.T.list[0]\n",
    "        norm = sum(list(map(lambda x: x ** 2, horiz)))\n",
    "        return norm ** 0.5\n",
    "    \n",
    "    def __eq__(self, other):\n",
    "        assert self.shape == other.shape, 'Lists are not of same shape - Shape({}, {}) != Shape({}, {})'.format(self.shape[0], self.shape[1], other.shape[0], other.shape[1])\n",
    "        res = True\n",
    "        for i in range(len(self.list)):\n",
    "            for j in range(len(self.list[0])):\n",
    "                res = res and (self.list[i][j] == other[i][j])\n",
    "        \n",
    "        return res\n",
    "    \n",
    "    def __pow__(self, other):\n",
    "        assert not isinstance(other, self.__class__), 'Cannot perform required operation with two matrices'\n",
    "        res_list = [[self.list[i][j] ** other for j in range(len(self.list[0]))] for i in range(len(self.list))]\n",
    "        return List(res_list)\n",
    "    \n",
    "    def __rpow__(self, other):\n",
    "        assert not isinstance(other, List)\n",
    "        res_list = [[other ** self.list[i][j] for j in range(len(self.list[0]))] for i in range(len(self.list))]\n",
    "        return List(res_list)\n",
    "    \n",
    "    def __getitem__(self, index):\n",
    "        return self.list[index]\n",
    "    \n",
    "    @classmethod\n",
    "    def log(cls, x):\n",
    "        assert isinstance(x, List) and x.shape[1] == 1, 'Provide valid List objects'\n",
    "        new_list = x.T.list[0]\n",
    "        new_list = [[math.log(i)] for i in new_list]\n",
    "        return List(new_list)\n",
    "    \n",
    "    @classmethod\n",
    "    def exp(cls, x):\n",
    "        assert isinstance(x, List) and x.shape[1] == 1, 'Provide valid List objects'\n",
    "        new_list = x.T.list[0]\n",
    "        new_list = [[math.exp(i)] for i in new_list]\n",
    "        return List(new_list)\n",
    "\n",
    "def ele_wise_mul(x, y):\n",
    "    assert isinstance(x, List) and isinstance(y, List), 'Provide List objects'\n",
    "    return List([[ele1[0] * ele2[0]] for ele1, ele2 in zip(x.list, y.list)])\n",
    "\n",
    "a = List([[1], [4]])\n",
    "b = List([[1], [4]])\n",
    "a *= 2\n",
    "a.shape, a.T\n",
    "ele_wise_mul(a, b)"
   ]
  },
  {
   "cell_type": "code",
   "execution_count": 3,
   "metadata": {},
   "outputs": [
    {
     "name": "stdout",
     "output_type": "stream",
     "text": [
      "(5218, 4)\n",
      "(1305, 4)\n"
     ]
    }
   ],
   "source": [
    "# importing the dataset\n",
    "data_set = []\n",
    "with open('Colon_Cancer_CNN_Features.csv', mode='r') as datafile:\n",
    "    for line in datafile:\n",
    "        line = line.split(',')\n",
    "        line = list(map(float, line))\n",
    "        line[-1] = int(line[-1])\n",
    "        \n",
    "        data_set.append(line)\n",
    "\n",
    "random.shuffle(data_set)\n",
    "\n",
    "data = [line[:-1] for line in data_set]\n",
    "labels = [[line[-1]] for line in data_set]\n",
    "\n",
    "X_train = copy.deepcopy(data[:5218])\n",
    "y_train = copy.deepcopy(labels[:5218])\n",
    "X_test = copy.deepcopy(data[5218:])\n",
    "y_test = copy.deepcopy(labels[5218:])\n",
    "\n",
    "# creating one hot encoded vectors\n",
    "for target in range(len(y_train)):\n",
    "    new_ele = [0] * 4\n",
    "    new_ele[y_train[target][0] - 1] = 1\n",
    "    y_train[target] = copy.deepcopy(new_ele)\n",
    "\n",
    "for target in range(len(y_test)):\n",
    "    new_ele = [0] * 4\n",
    "    new_ele[y_test[target][0] - 1] = 1\n",
    "    y_test[target] = copy.deepcopy(new_ele)\n",
    "\n",
    "# convert to list objects\n",
    "X_train = List(X_train) if not isinstance(X_train, List) else X_train\n",
    "y_train = List(y_train) if not isinstance(y_train, List) else y_train\n",
    "X_test = List(X_test) if not isinstance(X_test, List) else X_test\n",
    "y_test = List(y_test) if not isinstance(y_test, List) else y_test\n",
    "\n",
    "print(y_train.shape)\n",
    "print(y_test.shape)"
   ]
  },
  {
   "cell_type": "code",
   "execution_count": 4,
   "metadata": {},
   "outputs": [],
   "source": [
    "class ANN:\n",
    "    \"\"\"\n",
    "    creates a 3-layer network(an input layer, a hidden layer, an output layer)\n",
    "    \"\"\"\n",
    "    def __init__(self, num_hidden, loss_func, lr=0.001):\n",
    "        self.lr = lr\n",
    "        self.loss_func = loss_func\n",
    "        \n",
    "        self.weights_hi = [[round(random.random(), 2) for _ in range(326)] for _ in range(num_hidden)]\n",
    "        #self.biases_hi = [[random.random()] for _ in range(num_hidden + 1)]\n",
    "        \n",
    "        self.weights_oh = [[round(random.random(), 2) for _ in range(num_hidden + 1)] for _ in range(4)]\n",
    "        #self.biases_oh = [[random.random()] for _ in range(4)]\n",
    "        \n",
    "        self.weights_hi = List(self.weights_hi) if not isinstance(self.weights_hi, List) else self.weights_hi\n",
    "        self.weights_oh = List(self.weights_oh) if not isinstance(self.weights_oh, List) else self.weights_oh\n",
    "        #self.biases_hi = List(self.biases_hi) if not isinstance(self.biases_hi, List) else self.biases_hi\n",
    "        #self.biases_oh = List(self.biases_oh) if not isinstance(self.biases_oh, List) else self.biases_oh\n",
    "    \n",
    "    @classmethod\n",
    "    def sigmoid(cls, x):\n",
    "        expo = List.exp(-1 * x / 100)\n",
    "        denom = 1 + expo\n",
    "        return 1.0 / (100 * denom)\n",
    "    \n",
    "    @classmethod\n",
    "    def sigmoid_prime(cls, x):\n",
    "        return ele_wise_mul(ANN.sigmoid(x), 1 - ANN.sigmoid(x))\n",
    "    \n",
    "    def ssd(self, x, y):\n",
    "        output, _ = self.__forward_prop(x)\n",
    "        return abs(y.T - output) ** 2\n",
    "    \n",
    "    def entropy(self, x, y):\n",
    "        output, _ = self.__forward_prop(x)\n",
    "        loss_vec = (-1 * ele_wise_mul(y.T, List.log(output))).T.list[0]\n",
    "        return sum(loss_vec)\n",
    "    \n",
    "    def loss_prime(self, x, y):\n",
    "        output, _ = self.__forward_prop(x)\n",
    "        if self.loss_func == 'ssd':\n",
    "            return -1 * (y.T - output)\n",
    "        else:\n",
    "            return -1 * (y.T / output)\n",
    "\n",
    "    def single_loss(self, x, y):\n",
    "        if self.loss_func == 'ssd':\n",
    "            #print('ssd')\n",
    "            return self.ssd(x, y)\n",
    "        else:\n",
    "            #print('entropy')\n",
    "            return self.entropy(x, y)\n",
    "    \n",
    "    def batch_loss(self, x, y):\n",
    "        total = 0\n",
    "        for example, label in zip(x.list, y.list):\n",
    "            total += self.single_loss(List([example]), List([label]))\n",
    "        \n",
    "        loss = total / (x.shape[0])\n",
    "        return loss\n",
    "    \n",
    "    def single_acc(self, x, y):\n",
    "        output, _ = self.__forward_prop(x)\n",
    "        return y.T == output\n",
    "    \n",
    "    def batch_acc(self, x, y):\n",
    "        total = 0\n",
    "        for example, label in zip(x.list, y.list):\n",
    "            total += self.single_acc(List([example]), List([label]))\n",
    "        \n",
    "        acc = total / (x.shape[0])\n",
    "        return acc\n",
    "    \n",
    "    def __forward_prop(self, x):\n",
    "        x = List([[1] + x.list[0]]).T\n",
    "        hidden_inputs = self.weights_hi * x\n",
    "        hidden_values = ANN.sigmoid(hidden_inputs).T\n",
    "        \n",
    "        hidden_values = List([[1] + hidden_values.list[0]]).T\n",
    "        output_inputs = self.weights_oh * hidden_values\n",
    "        output_values = ANN.sigmoid(output_inputs)\n",
    "        ## forward prop ends here\n",
    "        \n",
    "        return output_values, hidden_values\n",
    "    \n",
    "    def __backprop(self, x, y):\n",
    "        output_values, hidden_values = self.__forward_prop(x)\n",
    "        \n",
    "        ## back prop starts here\n",
    "        loss_prime = self.loss_prime(x, y)\n",
    "        d3 = -1 * (ele_wise_mul(loss_prime, ANN.sigmoid_prime(output_values)))\n",
    "        dJdw2 = d3 * hidden_values.T # gradient of loss w.r.t w2\n",
    "        self.weights_oh = self.weights_oh - self.lr * dJdw2 # updating w2\n",
    "        \n",
    "        part1 = self.weights_oh.T * d3\n",
    "        part2 = ele_wise_mul(part1, ANN.sigmoid_prime(hidden_values))\n",
    "        part2 = List(part2.list[1:]) # removing gradient corresponding to bias\n",
    "        dJdw1 = part2 * List([[1] + x.list[0]]) # gradient of loss w.r.t w1\n",
    "        self.weights_hi = self.weights_hi - self.lr * dJdw1 # updating w1\n",
    "    \n",
    "    def fit(self, x, y):\n",
    "        for example, label in tqdm(zip(x.list, y.list)):\n",
    "            #self.__forward_prop(List([example]), List([label]))\n",
    "            try:\n",
    "                self.__backprop(List([example]), List([label]))\n",
    "            except:\n",
    "                pass"
   ]
  },
  {
   "cell_type": "code",
   "execution_count": 5,
   "metadata": {},
   "outputs": [
    {
     "name": "stderr",
     "output_type": "stream",
     "text": [
      "5218it [00:37, 138.58it/s]\n"
     ]
    },
    {
     "name": "stdout",
     "output_type": "stream",
     "text": [
      "5.304250844133033\n",
      "5.3042226780144714\n"
     ]
    },
    {
     "name": "stderr",
     "output_type": "stream",
     "text": [
      "5218it [00:37, 139.54it/s]\n"
     ]
    },
    {
     "name": "stdout",
     "output_type": "stream",
     "text": [
      "5.305415112896937\n",
      "5.305436125974665\n"
     ]
    },
    {
     "name": "stderr",
     "output_type": "stream",
     "text": [
      "5218it [00:29, 178.94it/s]\n"
     ]
    },
    {
     "name": "stdout",
     "output_type": "stream",
     "text": [
      "5.30326616568927\n",
      "5.303220556313642\n"
     ]
    },
    {
     "name": "stderr",
     "output_type": "stream",
     "text": [
      "5218it [00:23, 217.94it/s]\n"
     ]
    },
    {
     "name": "stdout",
     "output_type": "stream",
     "text": [
      "0.9900753964393538\n",
      "0.9900756672727289\n"
     ]
    },
    {
     "name": "stderr",
     "output_type": "stream",
     "text": [
      "5218it [00:25, 202.69it/s]\n"
     ]
    },
    {
     "name": "stdout",
     "output_type": "stream",
     "text": [
      "0.9900836313948373\n",
      "0.9900840722741198\n"
     ]
    },
    {
     "name": "stderr",
     "output_type": "stream",
     "text": [
      "5218it [00:29, 175.50it/s]\n"
     ]
    },
    {
     "name": "stdout",
     "output_type": "stream",
     "text": [
      "0.9900779778011872\n",
      "0.9900776590336162\n"
     ]
    }
   ],
   "source": [
    "loss_ssd = {'Train': [], 'Test': []}\n",
    "loss_entropy = {'Train': [], 'Test': []}\n",
    "for loss in ['entropy', 'ssd']:\n",
    "    for neurons in range(5, 8):\n",
    "        ann = ANN(neurons, loss)\n",
    "        ann.fit(X_train, y_train)\n",
    "        \n",
    "        train_loss = ann.batch_loss(X_train, y_train)\n",
    "        test_loss = ann.batch_loss(X_test, y_test)\n",
    "        print(train_loss)\n",
    "        print(test_loss)\n",
    "        \n",
    "        if loss == 'ssd':\n",
    "            loss_ssd['Train'].append(train_loss)\n",
    "            loss_ssd['Test'].append(test_loss)\n",
    "        else:\n",
    "            loss_entropy['Train'].append(train_loss)\n",
    "            loss_entropy['Test'].append(test_loss)"
   ]
  },
  {
   "cell_type": "code",
   "execution_count": 6,
   "metadata": {
    "scrolled": false
   },
   "outputs": [
    {
     "data": {
      "text/plain": [
       "<matplotlib.legend.Legend at 0x22590c4cb70>"
      ]
     },
     "execution_count": 6,
     "metadata": {},
     "output_type": "execute_result"
    },
    {
     "data": {
      "image/png": "[encoded data removed]",
      "text/plain": [
       "<Figure size 921.6x345.6 with 2 Axes>"
      ]
     },
     "metadata": {
      "needs_background": "light"
     },
     "output_type": "display_data"
    }
   ],
   "source": [
    "fig, ax = plt.subplots(1, 2, figsize=(12.8, 4.8))\n",
    "\n",
    "ax[0].plot(range(5, 8), loss_ssd['Train'], label='Train')\n",
    "ax[0].plot(range(5, 8), loss_ssd['Test'], label='Test')\n",
    "ax[0].set_title('SSD Loss')\n",
    "ax[0].set_xlabel('Number of Neurons')\n",
    "ax[0].set_ylabel('Loss')\n",
    "ax[0].legend()\n",
    "\n",
    "ax[1].plot(range(5, 8), loss_entropy['Train'], label='Train')\n",
    "ax[1].plot(range(5, 8), loss_entropy['Test'], label='Test')\n",
    "ax[1].set_title('Entropy Loss')\n",
    "ax[1].set_xlabel('Number of Neurons')\n",
    "ax[1].set_ylabel('Loss')\n",
    "ax[1].legend()"
   ]
  },
  {
   "cell_type": "code",
   "execution_count": 7,
   "metadata": {},
   "outputs": [
    {
     "name": "stdout",
     "output_type": "stream",
     "text": [
      "{'Train': [0.9900753964393538, 0.9900836313948373, 0.9900779778011872], 'Test': [0.9900756672727289, 0.9900840722741198, 0.9900776590336162]}\n"
     ]
    }
   ],
   "source": [
    "print(loss_ssd)"
   ]
  },
  {
   "cell_type": "code",
   "execution_count": 8,
   "metadata": {},
   "outputs": [
    {
     "name": "stdout",
     "output_type": "stream",
     "text": [
      "{'Train': [5.304250844133033, 5.305415112896937, 5.30326616568927], 'Test': [5.3042226780144714, 5.305436125974665, 5.303220556313642]}\n"
     ]
    }
   ],
   "source": [
    "print(loss_entropy)"
   ]
  }
 ],
 "metadata": {
  "kernelspec": {
   "display_name": "Python 3",
   "language": "python",
   "name": "python3"
  },
  "language_info": {
   "codemirror_mode": {
    "name": "ipython",
    "version": 3
   },
   "file_extension": ".py",
   "mimetype": "text/x-python",
   "name": "python",
   "nbconvert_exporter": "python",
   "pygments_lexer": "ipython3",
   "version": "3.6.6"
  }
 },
 "nbformat": 4,
 "nbformat_minor": 2
}
